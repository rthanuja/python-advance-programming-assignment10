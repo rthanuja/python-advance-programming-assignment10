{
 "cells": [
  {
   "cell_type": "code",
   "execution_count": 1,
   "id": "30a7df23",
   "metadata": {},
   "outputs": [],
   "source": [
    "#1. Create a function that takes the width, height and character and returns a picture frame as a 2D list.\n",
    "def get_frame(w,h,c):\n",
    "    if w<=2:\n",
    "        return \"invalid\"\n",
    "    else:\n",
    "        l=[]\n",
    "        for i in range(h):\n",
    "            f=[]\n",
    "            if i==0 or i==h-1:\n",
    "                for j in range(w):\n",
    "                    f.append(c)\n",
    "            else:\n",
    "                for j in range(w-1):\n",
    "                    if j==0 or j==w-2:\n",
    "                        f.append(c)\n",
    "                    else:\n",
    "                        f.append(\" \")\n",
    "            l.append([\"\".join(f)])\n",
    "            \n",
    "    return l"
   ]
  },
  {
   "cell_type": "code",
   "execution_count": 2,
   "id": "3556af4c",
   "metadata": {},
   "outputs": [
    {
     "data": {
      "text/plain": [
       "[['####'], ['# #'], ['# #'], ['# #'], ['####']]"
      ]
     },
     "execution_count": 2,
     "metadata": {},
     "output_type": "execute_result"
    }
   ],
   "source": [
    "get_frame(4,5,\"#\")"
   ]
  },
  {
   "cell_type": "code",
   "execution_count": 3,
   "id": "54cb8d50",
   "metadata": {},
   "outputs": [
    {
     "data": {
      "text/plain": [
       "[['**********'], ['*       *'], ['**********']]"
      ]
     },
     "execution_count": 3,
     "metadata": {},
     "output_type": "execute_result"
    }
   ],
   "source": [
    "get_frame(10,3,\"*\")"
   ]
  },
  {
   "cell_type": "code",
   "execution_count": 4,
   "id": "7cee39ac",
   "metadata": {},
   "outputs": [
    {
     "data": {
      "text/plain": [
       "'invalid'"
      ]
     },
     "execution_count": 4,
     "metadata": {},
     "output_type": "execute_result"
    }
   ],
   "source": [
    "get_frame(2,5,\"0\")"
   ]
  },
  {
   "cell_type": "code",
   "execution_count": 5,
   "id": "11131b83",
   "metadata": {},
   "outputs": [],
   "source": [
    "'''2. Write three functions:\n",
    "    1. boolean_and\n",
    "    2. boolean_or\n",
    "    3. boolean_xor\n",
    "These functions should evaluate a list of True and False values, starting from the leftmost element and evaluating pairwise.'''\n",
    "def boolean_and(l):\n",
    "    a=l[0] and l[1]\n",
    "    for i in range(2,len(l)):\n",
    "        a=a and l[i]\n",
    "    return bool(a)\n",
    "def boolean_or(l):\n",
    "    a=l[0] or l[1]\n",
    "    for i in range(2,len(l)):\n",
    "        a=a or l[i]\n",
    "    return bool(a) \n",
    "def boolean_xor(l):\n",
    "    a=l[0] ^ l[1]\n",
    "    for i in range(2,len(l)):\n",
    "        a=a ^ l[i]\n",
    "    return bool(a) "
   ]
  },
  {
   "cell_type": "code",
   "execution_count": 6,
   "id": "d5e80e18",
   "metadata": {},
   "outputs": [
    {
     "data": {
      "text/plain": [
       "False"
      ]
     },
     "execution_count": 6,
     "metadata": {},
     "output_type": "execute_result"
    }
   ],
   "source": [
    "boolean_and([True, True, False, True])"
   ]
  },
  {
   "cell_type": "code",
   "execution_count": 7,
   "id": "900aa7fd",
   "metadata": {},
   "outputs": [
    {
     "data": {
      "text/plain": [
       "True"
      ]
     },
     "execution_count": 7,
     "metadata": {},
     "output_type": "execute_result"
    }
   ],
   "source": [
    "boolean_or([True, True, False, False])"
   ]
  },
  {
   "cell_type": "code",
   "execution_count": 8,
   "id": "495ce556",
   "metadata": {},
   "outputs": [
    {
     "data": {
      "text/plain": [
       "False"
      ]
     },
     "execution_count": 8,
     "metadata": {},
     "output_type": "execute_result"
    }
   ],
   "source": [
    "boolean_xor([True, True, False, False])"
   ]
  },
  {
   "cell_type": "code",
   "execution_count": 10,
   "id": "1de8f8ec",
   "metadata": {},
   "outputs": [],
   "source": [
    "#3. Create a function that creates a box based on dimension n.\n",
    "def make_box(n):\n",
    "    l=[]\n",
    "    for i in range(n):\n",
    "        f=\"\"\n",
    "        if i==0 or i==n-1:\n",
    "            for j in range(n):\n",
    "                f+=\"#\"\n",
    "        else:\n",
    "            for j in range(n):\n",
    "                if j==0 or j==n-1:\n",
    "                        f+=\"#\"\n",
    "                else:\n",
    "                    f+=\" \"\n",
    "        l.append(f)\n",
    "    return l  "
   ]
  },
  {
   "cell_type": "code",
   "execution_count": 11,
   "id": "04aa9c17",
   "metadata": {},
   "outputs": [
    {
     "data": {
      "text/plain": [
       "['#####', '#   #', '#   #', '#   #', '#####']"
      ]
     },
     "execution_count": 11,
     "metadata": {},
     "output_type": "execute_result"
    }
   ],
   "source": [
    "make_box(5)"
   ]
  },
  {
   "cell_type": "code",
   "execution_count": 12,
   "id": "30a92056",
   "metadata": {},
   "outputs": [
    {
     "data": {
      "text/plain": [
       "['###', '# #', '###']"
      ]
     },
     "execution_count": 12,
     "metadata": {},
     "output_type": "execute_result"
    }
   ],
   "source": [
    "make_box(3)"
   ]
  },
  {
   "cell_type": "code",
   "execution_count": 13,
   "id": "b235abf1",
   "metadata": {},
   "outputs": [
    {
     "data": {
      "text/plain": [
       "['##', '##']"
      ]
     },
     "execution_count": 13,
     "metadata": {},
     "output_type": "execute_result"
    }
   ],
   "source": [
    "make_box(2)"
   ]
  },
  {
   "cell_type": "code",
   "execution_count": 14,
   "id": "4b2f94ee",
   "metadata": {},
   "outputs": [
    {
     "data": {
      "text/plain": [
       "['#']"
      ]
     },
     "execution_count": 14,
     "metadata": {},
     "output_type": "execute_result"
    }
   ],
   "source": [
    "make_box(1)"
   ]
  },
  {
   "cell_type": "code",
   "execution_count": 15,
   "id": "c6058dd0",
   "metadata": {},
   "outputs": [],
   "source": [
    "#4.Given a common phrase, return False if any individual word in the phrase contains duplicate letters. Return True otherwise.\n",
    "def no_duplicate_letters(s):\n",
    "    l=s.split()\n",
    "    for i in l:\n",
    "        if len(list(i))==len(set(list(i))):\n",
    "            continue\n",
    "        else:\n",
    "            return False\n",
    "    return True"
   ]
  },
  {
   "cell_type": "code",
   "execution_count": 16,
   "id": "6cb732dc",
   "metadata": {},
   "outputs": [
    {
     "data": {
      "text/plain": [
       "True"
      ]
     },
     "execution_count": 16,
     "metadata": {},
     "output_type": "execute_result"
    }
   ],
   "source": [
    "no_duplicate_letters(\"Fortune favours the bold.\")"
   ]
  },
  {
   "cell_type": "code",
   "execution_count": 17,
   "id": "41a03d38",
   "metadata": {},
   "outputs": [
    {
     "data": {
      "text/plain": [
       "True"
      ]
     },
     "execution_count": 17,
     "metadata": {},
     "output_type": "execute_result"
    }
   ],
   "source": [
    "no_duplicate_letters(\"You can lead a horse to water, but you can't make him drink.\")"
   ]
  },
  {
   "cell_type": "code",
   "execution_count": 18,
   "id": "e9d3c080",
   "metadata": {},
   "outputs": [
    {
     "data": {
      "text/plain": [
       "False"
      ]
     },
     "execution_count": 18,
     "metadata": {},
     "output_type": "execute_result"
    }
   ],
   "source": [
    "no_duplicate_letters(\"Look before you leap.\")"
   ]
  },
  {
   "cell_type": "code",
   "execution_count": 19,
   "id": "1c2588a3",
   "metadata": {},
   "outputs": [
    {
     "data": {
      "text/plain": [
       "False"
      ]
     },
     "execution_count": 19,
     "metadata": {},
     "output_type": "execute_result"
    }
   ],
   "source": [
    "no_duplicate_letters(\"An apple a day keeps the doctor away.\")"
   ]
  },
  {
   "cell_type": "code",
   "execution_count": 20,
   "id": "1ae8a1c9",
   "metadata": {},
   "outputs": [
    {
     "name": "stdout",
     "output_type": "stream",
     "text": [
      "['California', 'Florida']\n"
     ]
    }
   ],
   "source": [
    "'''5. Write a regular expression that will match the states that voted yes to President Trump's impeachment. \n",
    "You must use RegEx positive lookahead.'''\n",
    "import re\n",
    "txt = \"Texas = no, California = yes, Florida = yes, Michigan = no\"\n",
    "pattern = \"(\\w+).{3}(?=yes)\"\n",
    "\n",
    "print(re.findall(pattern, txt) )\n"
   ]
  }
 ],
 "metadata": {
  "kernelspec": {
   "display_name": "Python 3 (ipykernel)",
   "language": "python",
   "name": "python3"
  },
  "language_info": {
   "codemirror_mode": {
    "name": "ipython",
    "version": 3
   },
   "file_extension": ".py",
   "mimetype": "text/x-python",
   "name": "python",
   "nbconvert_exporter": "python",
   "pygments_lexer": "ipython3",
   "version": "3.10.9"
  }
 },
 "nbformat": 4,
 "nbformat_minor": 5
}
